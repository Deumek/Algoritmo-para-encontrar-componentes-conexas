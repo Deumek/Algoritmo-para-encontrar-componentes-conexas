{
 "cells": [
  {
   "cell_type": "markdown",
   "metadata": {},
   "source": [
    "# Ejercicio 3\n",
    "Implementación del algoritmo mostrado en la <strong>sección 2.1 del texto Graphs, Algorithms, and Optimization, Segunda edición (2017) </strong>"
   ]
  },
  {
   "cell_type": "markdown",
   "metadata": {},
   "source": [
    "## Complejidad de agregar y encontrar elementos\n",
    "Para las funciones como indexar y agregar se utilizaron las clases set() y dict(), pues estas utilizan funciones hash y su complejidad para estas operaciones es O(1), como se ve en https://wiki.python.org/moin/TimeComplexity.\n",
    "\n",
    "La clase list() solo se utiliza una vez y solo se agragan elementos a esta y segun la documentación en el enlace anterior, esta operación tambien es O(1)"
   ]
  },
  {
   "cell_type": "markdown",
   "metadata": {},
   "source": [
    "### 2 Funciónes para organizar los datos de entrada\n",
    "Las siguientes 2 funciones no cambian la complejidad del algoritmo, pues su complejidad es O(n)"
   ]
  },
  {
   "cell_type": "markdown",
   "metadata": {},
   "source": [
    "La función vertexTupleToDict se usa para crear un diccionario con las listas de vertices adyacentes. <br>La complejidad de cada operación es 0(1), como se puede ver en https://wiki.python.org/moin/TimeComplexity Por lo tanto la complejidad de tupleToDict es O(n)"
   ]
  },
  {
   "cell_type": "code",
   "execution_count": 43,
   "metadata": {},
   "outputs": [],
   "source": [
    "def vertexTupleToDict(V, E):\n",
    "    dictionary = {v : set() for v in V}\n",
    "    for e in E:\n",
    "        dictionary[e[0]].add(e[1])\n",
    "        dictionary[e[1]].add(e[0])\n",
    "    return dictionary"
   ]
  },
  {
   "cell_type": "markdown",
   "metadata": {},
   "source": [
    "la función setVertexIndices crea un diccionario para juntar cada vertice con su correspondiente indice, para que a la hora de encontrar el indice de un vertice su complejidad sea O(1). <br>\n",
    "Es facil ver que esta función tiene complejidad O(n)"
   ]
  },
  {
   "cell_type": "code",
   "execution_count": 44,
   "metadata": {},
   "outputs": [],
   "source": [
    "def setVertexIndices(V):\n",
    "    return {V[i] : i for i in range(len(V))}"
   ]
  },
  {
   "cell_type": "markdown",
   "metadata": {},
   "source": [
    "### Funciónes compRep y merge\n",
    "hacen exactamente lo que dice en el texto"
   ]
  },
  {
   "cell_type": "code",
   "execution_count": 45,
   "metadata": {},
   "outputs": [],
   "source": [
    "def compRep(compPointer, v):\n",
    "    if compPointer[v] < 0:\n",
    "        return v\n",
    "    else:\n",
    "        rep = compRep(compPointer, compPointer[v])\n",
    "        compPointer[v] = rep\n",
    "        return rep"
   ]
  },
  {
   "cell_type": "code",
   "execution_count": 46,
   "metadata": {},
   "outputs": [],
   "source": [
    "def merge(compPointer, u, v):\n",
    "    uSize = -compPointer[u]\n",
    "    vSize = -compPointer[v]\n",
    "    if uSize < vSize:\n",
    "        compPointer[u] = v\n",
    "        compPointer[v] = -(uSize + vSize)\n",
    "    else:\n",
    "        compPointer[v] = u\n",
    "        compPointer[u] = -(uSize + vSize)"
   ]
  },
  {
   "cell_type": "markdown",
   "metadata": {},
   "source": [
    "### Guardar las componentes conexas en una lista\n",
    "Esta función solo asigna valores a diccionarios, conjuntos y listas. Por lo que su complejidad debe ser O(n)"
   ]
  },
  {
   "cell_type": "code",
   "execution_count": 67,
   "metadata": {},
   "outputs": [],
   "source": [
    "def getConnectedComponents(compPointer, V):\n",
    "    dictionary = {}\n",
    "    for i in range(len(V)):\n",
    "        if (compPointer[i] < 0):\n",
    "            dictionary[V[i]] = set([V[i]])\n",
    "        else:\n",
    "            dictionary[V[compPointer[i]]].add(V[i])\n",
    "    return list(dictionary.values())"
   ]
  },
  {
   "cell_type": "markdown",
   "metadata": {},
   "source": [
    "### Función principal"
   ]
  },
  {
   "cell_type": "code",
   "execution_count": 68,
   "metadata": {},
   "outputs": [],
   "source": [
    "def componentes2(V, E):\n",
    "    n = len(V)\n",
    "    compPointer = [-1 for i in range(n)]\n",
    "    adjacentVertices = vertexTupleToDict(V, E)  # Para evitar confusiones con los nombres de vertices, \n",
    "    vertexIndices = setVertexIndices(V)         # en las funciones compRep y merge se reemplazan sus\n",
    "                                                # sus valores originales por indices que apuntan a ellos\n",
    "    for u in range(n):\n",
    "        for v in adjacentVertices[V[u]]:\n",
    "            uRep = compRep(compPointer, u)\n",
    "            vRep = compRep(compPointer, vertexIndices[v])\n",
    "            if uRep != vRep:\n",
    "                merge(compPointer, uRep, vRep)\n",
    "    return getConnectedComponents(compPointer, V)"
   ]
  },
  {
   "cell_type": "markdown",
   "metadata": {},
   "source": [
    "### Casos de ejemplo"
   ]
  },
  {
   "cell_type": "code",
   "execution_count": 71,
   "metadata": {},
   "outputs": [
    {
     "data": {
      "text/plain": [
       "[{1, 2, 3, 4}, {5, 6}]"
      ]
     },
     "execution_count": 71,
     "metadata": {},
     "output_type": "execute_result"
    }
   ],
   "source": [
    "V = (1,2,3,4,5,6)\n",
    "E = ((1,2), (1,3), (4,1), (5,6))\n",
    "componentes2(V,E)"
   ]
  },
  {
   "cell_type": "code",
   "execution_count": 70,
   "metadata": {},
   "outputs": [
    {
     "data": {
      "text/plain": [
       "[{1, 6, 9, 12},\n",
       " {2, 16},\n",
       " {3},\n",
       " {4, 10},\n",
       " {5},\n",
       " {7},\n",
       " {8, 14, 15, 20},\n",
       " {11},\n",
       " {13, 18},\n",
       " {17},\n",
       " {19}]"
      ]
     },
     "execution_count": 70,
     "metadata": {},
     "output_type": "execute_result"
    }
   ],
   "source": [
    "V = (1, 2, 3, 4, 5, 6, 7, 8, 9, 10, 11, 12, 13, 14, 15, 16, 17, 18, 19, 20)\n",
    "E = ((9, 1), (10, 4), (12, 6), (12, 9), (15, 8), (15, 14), (16, 2), (18, 13), (20, 8))\n",
    "componentes2(V,E)"
   ]
  }
 ],
 "metadata": {
  "kernelspec": {
   "display_name": "VSCode",
   "language": "python",
   "name": "python3"
  },
  "language_info": {
   "codemirror_mode": {
    "name": "ipython",
    "version": 3
   },
   "file_extension": ".py",
   "mimetype": "text/x-python",
   "name": "python",
   "nbconvert_exporter": "python",
   "pygments_lexer": "ipython3",
   "version": "3.9.13"
  },
  "orig_nbformat": 4
 },
 "nbformat": 4,
 "nbformat_minor": 2
}
